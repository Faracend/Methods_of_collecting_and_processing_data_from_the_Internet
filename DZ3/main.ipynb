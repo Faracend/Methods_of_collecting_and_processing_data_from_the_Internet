{
 "cells": [
  {
   "cell_type": "code",
   "source": [
    "from selenium import webdriver"
   ],
   "metadata": {
    "collapsed": false,
    "pycharm": {
     "name": "#%%\n"
    }
   },
   "execution_count": null,
   "outputs": []
  },
  {
   "cell_type": "code",
   "execution_count": null,
   "outputs": [],
   "source": [],
   "metadata": {
    "collapsed": false,
    "pycharm": {
     "name": "#%%\n"
    }
   }
  }
 ],
 "metadata": {},
 "nbformat": 4,
 "nbformat_minor": 5
}